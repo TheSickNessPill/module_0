{
 "cells": [
  {
   "cell_type": "code",
   "execution_count": null,
   "metadata": {},
   "outputs": [],
   "source": [
    "import numpy as np\n",
    "import random\n",
    "def game_core_v1(left_border, right_border, number):\n",
    "    '''\n",
    "        Функция угадывания числа путём постоянного деления\n",
    "        данной области чисел пополам и подсчёт количества \n",
    "        попыток пока диапазон не сузиться до искомого числа.\n",
    "       \n",
    "       Функция возвращает количество попыток угадать число\n",
    "    '''\n",
    "    \n",
    "    l_b = left_border; r_b = right_border+1; try_count = 0\n",
    "    while True:\n",
    "        try_count+=1\n",
    "        if number == int(l_b + (r_b - l_b)/2):\n",
    "            return try_count\n",
    "        elif number > int(l_b + (r_b - l_b)/2):\n",
    "            l_b = int(l_b + (r_b - l_b)/2)\n",
    "        elif number < int(l_b + (r_b - l_b)/2):\n",
    "            r_b = int(l_b + (r_b - l_b)/2)\n",
    "            \n",
    "def score_game(game_core_v1):\n",
    "    '''\n",
    "        Запускаем игру 1000 раз, чтоб узнать как быстро игра угадывает число.\n",
    "        \n",
    "        Функция которая создаёт массив из 1000 случайных целых чисел в \n",
    "        определённом диапазоне, а в список \"count_ls\" записывает \n",
    "        количество попыток угадать это число, которое сообветствует \n",
    "        порядковому номеру элемента в массиве.\n",
    "        \n",
    "        Функция возвращает среднее количество попыток угадать число \n",
    "    '''\n",
    "    print('Введите левую границу диапазона'); left_border = int(input())\n",
    "    print('Введите правую границу диапазона'); right_border = int(input())\n",
    "    \n",
    "    count_ls = []\n",
    "    np.random.seed(1)\n",
    "    random_array = np.random.randint(left_border, right_border, size=(1000))\n",
    "    \n",
    "    for number in random_array:\n",
    "        count_ls.append(game_core_v1(left_border, right_border, number))\n",
    "    score = int(np.mean(count_ls))\n",
    "    \n",
    "    return(score)\n",
    "\n",
    "print(f\"Количество случайных чисел {1000}. \\\n",
    "\\nВаш алгоритм угадывает число в среднем за {score_game(game_core_v1)} попыток\")"
   ]
  }
 ],
 "metadata": {
  "kernelspec": {
   "display_name": "Python 3",
   "language": "python",
   "name": "python3"
  },
  "language_info": {
   "codemirror_mode": {
    "name": "ipython",
    "version": 3
   },
   "file_extension": ".py",
   "mimetype": "text/x-python",
   "name": "python",
   "nbconvert_exporter": "python",
   "pygments_lexer": "ipython3",
   "version": "3.7.6"
  }
 },
 "nbformat": 4,
 "nbformat_minor": 4
}
